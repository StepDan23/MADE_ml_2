{
 "cells": [
  {
   "cell_type": "code",
   "execution_count": 1,
   "id": "exact-graham",
   "metadata": {},
   "outputs": [],
   "source": [
    "from collections import defaultdict\n",
    "\n",
    "import numpy as np\n",
    "import pickle as pkl\n",
    "import pandas as pd\n",
    "\n",
    "from sklearn.linear_model import LogisticRegression\n",
    "from sklearn.preprocessing import OneHotEncoder\n",
    "from sklearn.preprocessing import MultiLabelBinarizer\n",
    "\n",
    "from scipy import sparse\n",
    "from scipy.stats import kendalltau, spearmanr\n",
    "\n",
    "import torch\n",
    "import torch.nn as nn\n",
    "from torch.optim import Adam\n",
    "\n",
    "from IPython import display\n",
    "import matplotlib.pyplot as plt"
   ]
  },
  {
   "cell_type": "markdown",
   "id": "governing-marking",
   "metadata": {},
   "source": [
    "# 0. Данные"
   ]
  },
  {
   "cell_type": "markdown",
   "id": "duplicate-evolution",
   "metadata": {},
   "source": [
    "Я сделал за вас только первый шаг: выкачал через API (https://rating.chgk.info/) сайта рейтинга ЧГК все нужные данные, чтобы сайт не прилёг под вашими многочисленными скрейперами. :) Полученные данные лежат в формате pickle вот здесь:\n",
    "\n",
    "https://www.dropbox.com/s/s4qj0fpsn378m2i/chgk.zip"
   ]
  },
  {
   "cell_type": "code",
   "execution_count": 2,
   "id": "subjective-spyware",
   "metadata": {},
   "outputs": [],
   "source": [
    "players_path = 'data/players.pkl'\n",
    "results_path = 'data/results.pkl'\n",
    "tournaments_path = 'data/tournaments.pkl'\n",
    "\n",
    "\n",
    "with open(players_path, 'rb') as fd:\n",
    "    players_json = pkl.load(fd)\n",
    "with open(results_path, 'rb') as fd:\n",
    "    results_json = pkl.load(fd)\n",
    "with open(tournaments_path, 'rb') as fd:\n",
    "    tournaments_json = pkl.load(fd)"
   ]
  },
  {
   "cell_type": "markdown",
   "id": "stunning-development",
   "metadata": {},
   "source": [
    "# 1. Обработка данных"
   ]
  },
  {
   "cell_type": "markdown",
   "id": "capital-affair",
   "metadata": {},
   "source": [
    "Прочитайте и проанализируйте данные, выберите турниры, в которых есть данные о составах команд и повопросных результатах (поле mask в results.pkl). Для унификации предлагаю:\n",
    "\n",
    "○ взять в тренировочный набор турниры с dateStart из 2019 года;\n",
    "\n",
    "○ в тестовый — турниры с dateStart из 2020 года."
   ]
  },
  {
   "cell_type": "code",
   "execution_count": 3,
   "id": "sorted-tower",
   "metadata": {},
   "outputs": [],
   "source": [
    "def get_data_by_year(year, train_flag=True):\n",
    "    year = str(year)\n",
    "    indexes = [tourn['id'] for tourn in tournaments_json.values()\n",
    "               if year in tourn['dateStart']\n",
    "              ]\n",
    "    \n",
    "    data = []\n",
    "    for ind in indexes:\n",
    "        if ind in results_json:\n",
    "            tour_data = get_tournament_info(ind, train_flag)\n",
    "            if tour_data:\n",
    "                data.extend(tour_data)\n",
    "\n",
    "    if train_flag:\n",
    "        column_names = ['team_id', 'question_id', 'player_list', 'ans']\n",
    "    else:\n",
    "        column_names = ['tourn_id', 'player_list', 'position']\n",
    "        \n",
    "    df = pd.DataFrame(data, columns=column_names)\n",
    "    return df\n",
    "\n",
    "\n",
    "def get_tournament_info(tour_ind, train_flag):\n",
    "    players = []\n",
    "    positions = []\n",
    "    answers = []\n",
    "    \n",
    "    num_questions = sum(tournaments_json[tour_ind]['questionQty'].values())\n",
    "    \n",
    "    for team in results_json[tour_ind]:\n",
    "        if not team.get('mask', None) or len(team['mask']) != num_questions:\n",
    "            continue\n",
    "        players.append([player['player']['id'] for player in team['teamMembers'] if player])\n",
    "        team_answers = [int(score == '1') for score in team['mask']]\n",
    "        answers.append(team_answers)\n",
    "        positions.append(team.get('position', None))\n",
    "    \n",
    "    if train_flag:    \n",
    "        if not answers:\n",
    "            return None\n",
    "        return [(team_ind, f'{tour_ind}_{q_ind}', team, ans)\n",
    "                for team_ind, team in enumerate(players) if team\n",
    "                for q_ind, ans in enumerate(answers[team_ind])\n",
    "               ]\n",
    "    return [(tour_ind, players[team_ind], positions[team_ind]) \n",
    "            for team_ind in range(len(positions))]"
   ]
  },
  {
   "cell_type": "code",
   "execution_count": 4,
   "id": "bulgarian-fiber",
   "metadata": {},
   "outputs": [
    {
     "data": {
      "text/html": [
       "<div>\n",
       "<style scoped>\n",
       "    .dataframe tbody tr th:only-of-type {\n",
       "        vertical-align: middle;\n",
       "    }\n",
       "\n",
       "    .dataframe tbody tr th {\n",
       "        vertical-align: top;\n",
       "    }\n",
       "\n",
       "    .dataframe thead th {\n",
       "        text-align: right;\n",
       "    }\n",
       "</style>\n",
       "<table border=\"1\" class=\"dataframe\">\n",
       "  <thead>\n",
       "    <tr style=\"text-align: right;\">\n",
       "      <th></th>\n",
       "      <th>team_id</th>\n",
       "      <th>question_id</th>\n",
       "      <th>player_id</th>\n",
       "      <th>ans</th>\n",
       "    </tr>\n",
       "  </thead>\n",
       "  <tbody>\n",
       "    <tr>\n",
       "      <th>0</th>\n",
       "      <td>0</td>\n",
       "      <td>4772_0</td>\n",
       "      <td>6212</td>\n",
       "      <td>1</td>\n",
       "    </tr>\n",
       "    <tr>\n",
       "      <th>0</th>\n",
       "      <td>0</td>\n",
       "      <td>4772_0</td>\n",
       "      <td>18332</td>\n",
       "      <td>1</td>\n",
       "    </tr>\n",
       "    <tr>\n",
       "      <th>0</th>\n",
       "      <td>0</td>\n",
       "      <td>4772_0</td>\n",
       "      <td>18036</td>\n",
       "      <td>1</td>\n",
       "    </tr>\n",
       "  </tbody>\n",
       "</table>\n",
       "</div>"
      ],
      "text/plain": [
       "   team_id question_id player_id  ans\n",
       "0        0      4772_0      6212    1\n",
       "0        0      4772_0     18332    1\n",
       "0        0      4772_0     18036    1"
      ]
     },
     "execution_count": 4,
     "metadata": {},
     "output_type": "execute_result"
    }
   ],
   "source": [
    "train_df = get_data_by_year(2019, train_flag=True)\n",
    "train_df = (train_df.explode('player_list')\n",
    "            .rename(columns={'player_list': 'player_id'}))\n",
    "train_df.head(3)"
   ]
  },
  {
   "cell_type": "markdown",
   "id": "cellular-husband",
   "metadata": {},
   "source": [
    "# 2. Простая логистическая регрессия"
   ]
  },
  {
   "cell_type": "markdown",
   "id": "bronze-blink",
   "metadata": {},
   "source": [
    "Постройте baseline-модель на основе линейной или логистической регрессии, которая будет обучать рейтинг-лист игроков. Замечания и подсказки:\n",
    "\n",
    "○ повопросные результаты — это фактически результаты броска монетки, и их предсказание скорее всего имеет отношение к бинарной классификации;\n",
    "\n",
    "○ в разных турнирах вопросы совсем разного уровня сложности, поэтому модель должна это учитывать; скорее всего, модель должна будет явно обучать не только силу каждого игрока, но и сложность каждого вопроса;\n",
    "\n",
    "○ для baseline-модели можно забыть о командах и считать, что повопросные результаты команды просто относятся к каждому из её игроков."
   ]
  },
  {
   "cell_type": "code",
   "execution_count": 5,
   "id": "solved-state",
   "metadata": {},
   "outputs": [],
   "source": [
    "player_enc = OneHotEncoder(sparse=True)\n",
    "question_enc = OneHotEncoder(sparse=True)\n",
    "\n",
    "players_train = player_enc.fit_transform(train_df[['player_id']])\n",
    "question_train = question_enc.fit_transform(train_df[['question_id']])\n",
    "\n",
    "train_sparse = sparse.hstack([players_train, question_train])"
   ]
  },
  {
   "cell_type": "code",
   "execution_count": 6,
   "id": "distinct-crazy",
   "metadata": {},
   "outputs": [
    {
     "name": "stderr",
     "output_type": "stream",
     "text": [
      "/Users/stepdan23/Library/Python/3.8/lib/python/site-packages/sklearn/linear_model/_logistic.py:763: ConvergenceWarning: lbfgs failed to converge (status=1):\n",
      "STOP: TOTAL NO. of ITERATIONS REACHED LIMIT.\n",
      "\n",
      "Increase the number of iterations (max_iter) or scale the data as shown in:\n",
      "    https://scikit-learn.org/stable/modules/preprocessing.html\n",
      "Please also refer to the documentation for alternative solver options:\n",
      "    https://scikit-learn.org/stable/modules/linear_model.html#logistic-regression\n",
      "  n_iter_i = _check_optimize_result(\n"
     ]
    },
    {
     "data": {
      "text/plain": [
       "LogisticRegression(max_iter=500, random_state=23)"
      ]
     },
     "execution_count": 6,
     "metadata": {},
     "output_type": "execute_result"
    }
   ],
   "source": [
    "model = LogisticRegression(max_iter=500, random_state=23)\n",
    "model.fit(train_sparse, train_df['ans'].values)"
   ]
  },
  {
   "cell_type": "markdown",
   "id": "dressed-allah",
   "metadata": {},
   "source": [
    "# 3. Качество на тестовой выборке"
   ]
  },
  {
   "cell_type": "markdown",
   "id": "blind-participant",
   "metadata": {},
   "source": [
    "Качество рейтинг-системы оценивается качеством предсказаний результатов турниров. Но сами повопросные результаты наши модели предсказывать вряд ли смогут, ведь неизвестно, насколько сложными окажутся вопросы в будущих турнирах; да и не нужны эти предсказания сами по себе. Поэтому:\n",
    "\n",
    "○ предложите способ предсказать результаты нового турнира с известными составами, но неизвестными вопросами, в виде ранжирования команд;\n",
    "\n",
    "○ в качестве метрики качества на тестовом наборе давайте считать ранговые корреляции Спирмена и Кендалла (их можно взять в пакете scipy) между реальным ранжированием в результатах турнира и предсказанным моделью, усреднённые по тестовому множеству турниров ."
   ]
  },
  {
   "cell_type": "code",
   "execution_count": 7,
   "id": "pressing-electronics",
   "metadata": {},
   "outputs": [
    {
     "data": {
      "text/html": [
       "<div>\n",
       "<style scoped>\n",
       "    .dataframe tbody tr th:only-of-type {\n",
       "        vertical-align: middle;\n",
       "    }\n",
       "\n",
       "    .dataframe tbody tr th {\n",
       "        vertical-align: top;\n",
       "    }\n",
       "\n",
       "    .dataframe thead th {\n",
       "        text-align: right;\n",
       "    }\n",
       "</style>\n",
       "<table border=\"1\" class=\"dataframe\">\n",
       "  <thead>\n",
       "    <tr style=\"text-align: right;\">\n",
       "      <th></th>\n",
       "      <th>tourn_id</th>\n",
       "      <th>player_list</th>\n",
       "      <th>position</th>\n",
       "    </tr>\n",
       "  </thead>\n",
       "  <tbody>\n",
       "    <tr>\n",
       "      <th>0</th>\n",
       "      <td>4957</td>\n",
       "      <td>[30152, 30270, 27822, 28751, 27403, 4270]</td>\n",
       "      <td>1.0</td>\n",
       "    </tr>\n",
       "    <tr>\n",
       "      <th>1</th>\n",
       "      <td>4957</td>\n",
       "      <td>[34936, 40877, 25177, 113703, 33792, 107161]</td>\n",
       "      <td>2.0</td>\n",
       "    </tr>\n",
       "    <tr>\n",
       "      <th>2</th>\n",
       "      <td>4957</td>\n",
       "      <td>[33620, 21346, 13857, 46339, 37836, 19632]</td>\n",
       "      <td>3.0</td>\n",
       "    </tr>\n",
       "  </tbody>\n",
       "</table>\n",
       "</div>"
      ],
      "text/plain": [
       "   tourn_id                                   player_list  position\n",
       "0      4957     [30152, 30270, 27822, 28751, 27403, 4270]       1.0\n",
       "1      4957  [34936, 40877, 25177, 113703, 33792, 107161]       2.0\n",
       "2      4957    [33620, 21346, 13857, 46339, 37836, 19632]       3.0"
      ]
     },
     "execution_count": 7,
     "metadata": {},
     "output_type": "execute_result"
    }
   ],
   "source": [
    "test_df = get_data_by_year(2020, train_flag=False)\n",
    "test_df.head(3)"
   ]
  },
  {
   "cell_type": "code",
   "execution_count": 8,
   "id": "rotary-temple",
   "metadata": {
    "scrolled": true
   },
   "outputs": [],
   "source": [
    "n_players = len(player_enc.categories_[0])\n",
    "players_rating = dict(zip(player_enc.categories_[0], model.coef_[0][:n_players]))"
   ]
  },
  {
   "cell_type": "code",
   "execution_count": 9,
   "id": "finnish-diversity",
   "metadata": {},
   "outputs": [],
   "source": [
    "def calculate_team_score(players):\n",
    "    return np.mean([players_rating.get(p_id, 0) for p_id in players])"
   ]
  },
  {
   "cell_type": "code",
   "execution_count": 10,
   "id": "indoor-import",
   "metadata": {},
   "outputs": [
    {
     "name": "stderr",
     "output_type": "stream",
     "text": [
      "/Users/stepdan23/Library/Python/3.8/lib/python/site-packages/numpy/core/fromnumeric.py:3419: RuntimeWarning: Mean of empty slice.\n",
      "  return _methods._mean(a, axis=axis, dtype=dtype,\n",
      "/Users/stepdan23/Library/Python/3.8/lib/python/site-packages/numpy/core/_methods.py:188: RuntimeWarning: invalid value encountered in double_scalars\n",
      "  ret = ret.dtype.type(ret / rcount)\n"
     ]
    },
    {
     "name": "stdout",
     "output_type": "stream",
     "text": [
      "Spearman correlation 0.762\n",
      "Kendalltau correlation 0.607\n"
     ]
    }
   ],
   "source": [
    "test_df['pred_score'] = (test_df.apply(\n",
    "    lambda x: calculate_team_score(x['player_list']), axis=1).fillna(0))\n",
    "\n",
    "spearman_corr = abs(test_df.groupby('tourn_id').apply(\n",
    "    lambda x: spearmanr(x['position'], x['pred_score']).correlation).mean())\n",
    "kendall_corr = abs(test_df.groupby('tourn_id').apply(\n",
    "    lambda x: kendalltau(x['position'], x['pred_score']).correlation).mean())\n",
    "print(f'Spearman correlation {spearman_corr:.3f}')\n",
    "print(f'Kendalltau correlation {kendall_corr:.3f}')"
   ]
  },
  {
   "cell_type": "markdown",
   "id": "fifteen-worry",
   "metadata": {},
   "source": [
    "# 4. EM - модель"
   ]
  },
  {
   "cell_type": "code",
   "execution_count": 11,
   "id": "noticed-supervision",
   "metadata": {},
   "outputs": [],
   "source": [
    "values = train_sparse.data\n",
    "indices = np.vstack((train_sparse.row, train_sparse.col))\n",
    "\n",
    "train_torch = torch.sparse.FloatTensor(\n",
    "    torch.LongTensor(indices),\n",
    "    torch.FloatTensor(values),\n",
    "    torch.Size(train_sparse.shape)\n",
    ")\n",
    "y_train_torch = torch.from_numpy(train_df['ans'].values.astype('float32'))"
   ]
  },
  {
   "cell_type": "code",
   "execution_count": 12,
   "id": "economic-casino",
   "metadata": {},
   "outputs": [],
   "source": [
    "class EMModel:\n",
    "    def __init__(self, input_size, lr=0.1, n_iter=10):\n",
    "        self.model = nn.Linear(input_size, 1)\n",
    "        self.opt = Adam(self.model.parameters(), lr=lr)\n",
    "        self.loss = nn.BCELoss()\n",
    "        self.n_iter = n_iter\n",
    "        \n",
    "    def e_step(self, X, y, y_true):\n",
    "        self.model.eval()\n",
    "        \n",
    "        with torch.no_grad():\n",
    "            out = self.model(X).flatten()\n",
    "            y_pred = torch.sigmoid(out)\n",
    "            \n",
    "        train_df['neg_ans_prob'] =  1 - y_pred.numpy()\n",
    "        team_prob = train_df.groupby(['team_id', 'question_id']).agg({'neg_ans_prob': 'prod'})\n",
    "        team_prob = 1 - train_df[['team_id', 'question_id']].merge(team_prob.reset_index())['neg_ans_prob']\n",
    "\n",
    "        return torch.from_numpy((y_true * (y_pred / team_prob)).values.astype('float32'))\n",
    "        \n",
    "    def m_step(self, X, y):\n",
    "        self.model.train()\n",
    "        self.opt.zero_grad()\n",
    "\n",
    "        out = self.model(X).flatten()\n",
    "        loss = self.loss(torch.sigmoid(out), y)\n",
    "        \n",
    "        loss.backward()\n",
    "        self.opt.step()\n",
    "\n",
    "    def train_model(self, X_train, y_train, valid_df, verbose=True):\n",
    "        val_loss_history = []\n",
    "        \n",
    "        y_new = y_train.detach().clone()\n",
    "        for i in range(self.n_iter + 1):\n",
    "\n",
    "            y_new = self.e_step(X_train, y_new, y_train)\n",
    "            self.m_step(X_train, y_new)\n",
    "\n",
    "            if verbose and i % 1 == 0:\n",
    "                players_rating = dict(zip(player_enc.categories_[0],\n",
    "                                          self.model.weight.data.flatten()[:n_players]))\n",
    "                \n",
    "                valid_df['pred_score'] = (valid_df.apply(\n",
    "                    lambda x: np.mean([players_rating.get(p_id, 0) for p_id in x['player_list']]), axis=1))\n",
    "                \n",
    "                spearman_corr = abs(valid_df.groupby('tourn_id').apply(\n",
    "                    lambda x: spearmanr(x['position'], x['pred_score']).correlation).mean())\n",
    "                val_loss_history.append(spearman_corr)\n",
    "\n",
    "                display.clear_output(wait=True)\n",
    "                print(f'num epoch - {i}')\n",
    "                print(f'Spearman correlation {spearman_corr:.3f}')\n",
    "                plt.ylim(0, 1)\n",
    "                plt.xlim(0, (self.n_iter) + 1)\n",
    "                plt.plot(range(len(val_loss_history)), val_loss_history)\n",
    "                plt.show()"
   ]
  },
  {
   "cell_type": "code",
   "execution_count": 16,
   "id": "critical-benefit",
   "metadata": {},
   "outputs": [
    {
     "name": "stdout",
     "output_type": "stream",
     "text": [
      "num epoch - 23\n",
      "Spearman correlation 0.579\n"
     ]
    },
    {
     "data": {
      "image/png": "[encoded data removed]",
      "text/plain": [
       "<Figure size 432x288 with 1 Axes>"
      ]
     },
     "metadata": {
      "needs_background": "light"
     },
     "output_type": "display_data"
    }
   ],
   "source": [
    "em_model = EMModel(train_torch.shape[1], lr=0.9, n_iter=23)\n",
    "em_model.train_model(train_torch,  y_train_torch, test_df)"
   ]
  },
  {
   "cell_type": "markdown",
   "id": "billion-radiation",
   "metadata": {},
   "source": [
    "# 5. “рейтинг-лист” турниров"
   ]
  },
  {
   "cell_type": "code",
   "execution_count": 20,
   "id": "operating-receptor",
   "metadata": {},
   "outputs": [
    {
     "name": "stdout",
     "output_type": "stream",
     "text": [
      "Топ 10 сложных турниров по версии простой модели:\n",
      "\n",
      "Чемпионат Санкт-Петербурга. Первая лига\n",
      "Чемпионат Санкт-Петербурга. Высшая лига\n",
      "Чемпионат России\n",
      "Серия Гран-при. Общий зачёт\n",
      "Угрюмый Ёрш\n",
      "Кубок Москвы\n",
      "Кубок городов\n",
      "Синхрон высшей лиги Москвы\n",
      "Первенство правого полушария\n",
      "Воображаемый музей\n",
      "\n",
      "\n",
      "Топ 10 легких турниров по версии простой модели:\n",
      "\n",
      "Школьная лига\n",
      "Шестой киевский марафон. Асинхрон\n",
      "Школьный синхрон-lite. Сезон 3\n",
      "Студенческая лига ЧТ\n",
      "Малый кубок Физтеха\n",
      "ОВСЧ\n",
      "Первая лига ЧТ\n",
      " Балтийский Берег. Общий зачёт\n",
      "Щит и Меч\n"
     ]
    }
   ],
   "source": [
    "tourn_rating = defaultdict(int)\n",
    "for quest_id, value in zip(question_enc.categories_[0], model.coef_[0][n_players:]):\n",
    "    tourn_id = int(quest_id.split('_')[0])\n",
    "    tourn_rating[tourn_id] += value\n",
    "    \n",
    "top_tournaments = sorted(tourn_rating.items(), key=lambda x: x[1])\n",
    "\n",
    "top_10_tourn = [tournaments_json[ind]['name'] for ind, value in top_tournaments[:10]]\n",
    "down_10_tourn = [tournaments_json[ind]['name'] for ind, value in top_tournaments[:-10:-1]]\n",
    "\n",
    "print('Топ 10 сложных турниров по версии простой модели:', end='\\n\\n')\n",
    "print('\\n'.join(top_10_tourn), end='\\n\\n\\n')\n",
    "print('Топ 10 легких турниров по версии простой модели:', end='\\n\\n')\n",
    "print('\\n'.join(down_10_tourn))"
   ]
  },
  {
   "cell_type": "code",
   "execution_count": 21,
   "id": "valued-tradition",
   "metadata": {},
   "outputs": [
    {
     "name": "stdout",
     "output_type": "stream",
     "text": [
      "Топ 10 сложных турниров по версии EM модели:\n",
      "\n",
      "Чемпионат Санкт-Петербурга. Первая лига\n",
      "Чемпионат Санкт-Петербурга. Высшая лига\n",
      "Серия Гран-при. Общий зачёт\n",
      "Дзержинский марафон\n",
      "Открытый Студенческий чемпионат Краснодарского края\n",
      "Молодёжный чемпионат Нижегородской области\n",
      "Чемпионат России\n",
      "Школьный синхрон-lite. Сезон 3\n",
      "Гран-при Славянки. Общий зачет\n",
      "Школьная лига\n",
      "\n",
      "\n",
      "Топ 10 легких турниров по версии EM модели:\n",
      "\n",
      "Шестой киевский марафон. Асинхрон\n",
      "Гран-при Славянки. Общий зачёт\n",
      "Асинхрон по South Park\n",
      "Студенческий чемпионат Калининградской области\n",
      "Синхрон Лиги Разума\n",
      "Олимпиада Приволжского федерального округа. Финал\n",
      "One ring - async\n",
      "(а)Синхрон-lite. Лига старта. Эпизод V\n",
      "Второй тематический турнир имени Джоуи Триббиани\n"
     ]
    }
   ],
   "source": [
    "tourn_rating = defaultdict(int)\n",
    "for quest_id, value in zip(question_enc.categories_[0], \n",
    "                           em_model.model.weight.data.flatten()[n_players:]):\n",
    "    tourn_id = int(quest_id.split('_')[0])\n",
    "    tourn_rating[tourn_id] += value\n",
    "    \n",
    "top_tournaments = sorted(tourn_rating.items(), key=lambda x: x[1])\n",
    "\n",
    "top_10_tourn = [tournaments_json[ind]['name'] for ind, value in top_tournaments[:10]]\n",
    "down_10_tourn = [tournaments_json[ind]['name'] for ind, value in top_tournaments[:-10:-1]]\n",
    "\n",
    "print('Топ 10 сложных турниров по версии EM модели:', end='\\n\\n')\n",
    "print('\\n'.join(top_10_tourn), end='\\n\\n\\n')\n",
    "print('Топ 10 легких турниров по версии EM модели:', end='\\n\\n')\n",
    "print('\\n'.join(down_10_tourn))"
   ]
  },
  {
   "cell_type": "markdown",
   "id": "brief-world",
   "metadata": {},
   "source": [
    "# Топ 20 игроков"
   ]
  },
  {
   "cell_type": "code",
   "execution_count": 22,
   "id": "bottom-fraud",
   "metadata": {},
   "outputs": [
    {
     "name": "stdout",
     "output_type": "stream",
     "text": [
      "Топ 20 сильнейших игроков по версии простой модели:\n",
      "\n",
      "Руссо Максим Михайлович | число вопросов: 2195\n",
      "Брутер Александра Владимировна | число вопросов: 2711\n",
      "Семушин Иван Николаевич | число вопросов: 3803\n",
      "Савченков Михаил Владимирович | число вопросов: 3236\n",
      "Спешков Сергей Леонидович | число вопросов: 3767\n",
      "Сорожкин Артём Сергеевич | число вопросов: 4885\n",
      "Мереминский Станислав Григорьевич | число вопросов: 1595\n",
      "Левандовский Михаил Ильич | число вопросов: 1470\n",
      "Прокофьева Ирина Сергеевна | число вопросов: 1081\n",
      "Николенко Сергей Игоревич | число вопросов: 2235\n",
      "Новиков Илья Сергеевич | число вопросов: 1602\n",
      "Саксонов Антон Владимирович | число вопросов: 1206\n",
      "Либер Александр Витальевич | число вопросов: 3821\n",
      "Гилёв Алексей Владимирович | число вопросов: 4485\n",
      "Мосягин Александр Владимирович | число вопросов: 1123\n",
      "Мокин Игорь Викторович | число вопросов: 1188\n",
      "Марков Александр Валерьевич | число вопросов: 2917\n",
      "Карякин Дмитрий Александрович | число вопросов: 1313\n",
      "Царёв Михаил Сергеевич | число вопросов: 507\n",
      "Горелова Наталья Евгеньевна | число вопросов: 2105\n"
     ]
    }
   ],
   "source": [
    "top_20_player_ids = sorted(players_rating.items(), key=lambda x: x[1], reverse=True)[:20]\n",
    " \n",
    "print('Топ 20 сильнейших игроков по версии простой модели:', end='\\n\\n')\n",
    "for player_id, score in top_20_player_ids:\n",
    "    player_info = players_json[player_id]\n",
    "    num_quest = train_df[train_df['player_id'] == player_id].shape[0]\n",
    "    \n",
    "    print(player_info['surname'], player_info['name'],player_info['patronymic'],\n",
    "          '| число вопросов:', num_quest, sep=' ')"
   ]
  },
  {
   "cell_type": "code",
   "execution_count": 23,
   "id": "tracked-geography",
   "metadata": {},
   "outputs": [
    {
     "name": "stdout",
     "output_type": "stream",
     "text": [
      "Топ 20 сильнейших игроков по версии EM модели:\n",
      "\n",
      "Савенко София Романовна | число вопросов: 36\n",
      "Антонов Алексей Валерьевич | число вопросов: 36\n",
      "Бровченко Елена Борисовна | число вопросов: 36\n",
      "Лебедева София Евгеньевна | число вопросов: 36\n",
      "Лоренц Инга Андрисовна | число вопросов: 36\n",
      "Мамбетов Сабит Бахитович | число вопросов: 36\n",
      "Подюкова Валентина  | число вопросов: 36\n",
      "Борок Дмитрий Владимирович | число вопросов: 849\n",
      "Гринко Арина  | число вопросов: 216\n",
      "Остросаблина Ольга Фёдоровна | число вопросов: 36\n",
      "Зайдельман Семён Яковлевич | число вопросов: 36\n",
      "Якутов Дмитрий Алексеевич | число вопросов: 36\n",
      "Бирюкова Надежда Фёдоровна | число вопросов: 36\n",
      "Микулин Илья Викторович | число вопросов: 36\n",
      "Достовалов Сергей Григорьевич | число вопросов: 36\n",
      "Савушкина Марина Юрьевна | число вопросов: 36\n",
      "Глазкова Виолетта  | число вопросов: 36\n",
      "Зацаринный Андрей Сергеевич | число вопросов: 36\n",
      "Гаврилов Глеб Юрьевич | число вопросов: 252\n",
      "Пилипенко Максим Игоревич | число вопросов: 36\n"
     ]
    }
   ],
   "source": [
    "em_players_rating = dict(zip(player_enc.categories_[0],\n",
    "                             em_model.model.weight.data.flatten()[:n_players]))\n",
    "\n",
    "top_20_player_ids = sorted(em_players_rating.items(), key=lambda x: x[1], reverse=True)[:20]\n",
    " \n",
    "print('Топ 20 сильнейших игроков по версии EM модели:', end='\\n\\n')\n",
    "for player_id, score in top_20_player_ids:\n",
    "    player_info = players_json[player_id]\n",
    "    num_quest = train_df[train_df['player_id'] == player_id].shape[0]\n",
    "    \n",
    "    print(player_info['surname'], player_info['name'],player_info['patronymic'],\n",
    "          '| число вопросов:', num_quest, sep=' ')"
   ]
  }
 ],
 "metadata": {
  "kernelspec": {
   "display_name": "Python 3",
   "language": "python",
   "name": "python3"
  },
  "language_info": {
   "codemirror_mode": {
    "name": "ipython",
    "version": 3
   },
   "file_extension": ".py",
   "mimetype": "text/x-python",
   "name": "python",
   "nbconvert_exporter": "python",
   "pygments_lexer": "ipython3",
   "version": "3.8.2"
  }
 },
 "nbformat": 4,
 "nbformat_minor": 5
}
