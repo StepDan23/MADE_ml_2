{
 "cells": [
  {
   "cell_type": "code",
   "execution_count": 1,
   "id": "8c1cc221",
   "metadata": {},
   "outputs": [],
   "source": [
    "from collections import Counter\n",
    "\n",
    "import numpy as np\n",
    "import matplotlib.pyplot as plt\n",
    "from IPython import display\n",
    "\n",
    "train_data_path = 'data/WarAndPeace.txt'\n",
    "test_data_path = 'data/AnnaKarenina.txt'\n",
    "rus_alphabet = [chr(let) for let in range(ord('а'), ord('я') + 1)] + [' ']\n",
    "rus_alphabet_set = set(rus_alphabet)"
   ]
  },
  {
   "cell_type": "code",
   "execution_count": 2,
   "id": "dc5a63ea",
   "metadata": {},
   "outputs": [],
   "source": [
    "with open(train_data_path, 'r') as fd:\n",
    "    train_courpuse = fd.read()\n",
    "with open(test_data_path, 'r') as fd:\n",
    "    test_courpuse = fd.read()"
   ]
  },
  {
   "cell_type": "markdown",
   "id": "8c8c0f6b",
   "metadata": {},
   "source": [
    "# 1. Базовый частотный метод"
   ]
  },
  {
   "cell_type": "markdown",
   "id": "1501519b",
   "metadata": {},
   "source": [
    "### 1.1 подсчитайте частоты букв по корпусам (пунктуацию и капитализацию можно просто опустить, а вот пробелы лучше оставить);"
   ]
  },
  {
   "cell_type": "code",
   "execution_count": 3,
   "id": "df85ce76",
   "metadata": {},
   "outputs": [],
   "source": [
    "def text_preprocess(text):\n",
    "    clean_text = ''.join([let for let in text.lower() if let in rus_alphabet_set])\n",
    "    clean_text = ' '.join([word for word in clean_text.split()])  # repllace multi whitespaces\n",
    "    return clean_text"
   ]
  },
  {
   "cell_type": "code",
   "execution_count": 4,
   "id": "336f91b1",
   "metadata": {},
   "outputs": [],
   "source": [
    "clean_train_courpuse = text_preprocess(train_courpuse)\n",
    "clean_test_courpuse = text_preprocess(test_courpuse)"
   ]
  },
  {
   "cell_type": "code",
   "execution_count": 5,
   "id": "74a2ff45",
   "metadata": {},
   "outputs": [],
   "source": [
    "let_counter = Counter(clean_train_courpuse)"
   ]
  },
  {
   "cell_type": "markdown",
   "id": "b38d0f15",
   "metadata": {},
   "source": [
    "### 1.2 возьмите какие-нибудь тестовые тексты (нужно взять по меньшей мере 2-3 предложения, иначе вряд ли сработает), зашифруйте их посредством случайной перестановки символов;"
   ]
  },
  {
   "cell_type": "code",
   "execution_count": 6,
   "id": "ca375ff6",
   "metadata": {},
   "outputs": [],
   "source": [
    "def encode_text(text):\n",
    "    letters_size = len(rus_alphabet)\n",
    "    alphabet_shuffled = np.random.choice(rus_alphabet, size=letters_size, replace=False)\n",
    "    \n",
    "    encoder = dict(zip(rus_alphabet, alphabet_shuffled))\n",
    "    encoded_text = ''.join([encoder[let] for let in text])\n",
    "    return encoded_text"
   ]
  },
  {
   "cell_type": "code",
   "execution_count": 7,
   "id": "35d55a62",
   "metadata": {},
   "outputs": [],
   "source": [
    "def decode_text(text):\n",
    "    cur_counter = Counter(text)\n",
    "    decoder = {\n",
    "        cur_counter.most_common()[i][0]: let_counter.most_common()[i][0]\n",
    "        for i in range(len(cur_counter))\n",
    "    }\n",
    "    decoded_text = ''.join([decoder[let] for let in text])\n",
    "    return decoded_text"
   ]
  },
  {
   "cell_type": "code",
   "execution_count": 8,
   "id": "1c064c93",
   "metadata": {},
   "outputs": [],
   "source": [
    "def accuracy(true_text, pred_text):\n",
    "    size = min(len(true_text), len(pred_text))\n",
    "    total_true = 0\n",
    "    \n",
    "    for i in range(size):\n",
    "        total_true += int(true_text[i] == pred_text[i])\n",
    "    accuracy = total_true / size\n",
    "    return accuracy"
   ]
  },
  {
   "cell_type": "code",
   "execution_count": 9,
   "id": "b54a413e",
   "metadata": {},
   "outputs": [],
   "source": [
    "TEST_START_IND = 2_500\n",
    "SMALL_SIZE = 300\n",
    "MID_SIZE = 5_000\n",
    "BIG_SIZE = 50_000\n",
    "\n",
    "small_text = clean_test_courpuse[TEST_START_IND : TEST_START_IND + SMALL_SIZE]\n",
    "small_encoded = encode_text(small_text)\n",
    "mid_text = clean_test_courpuse[TEST_START_IND : TEST_START_IND + MID_SIZE]\n",
    "mid_encoded = encode_text(mid_text)\n",
    "big_text = clean_test_courpuse[TEST_START_IND : TEST_START_IND + BIG_SIZE]\n",
    "big_encoded = encode_text(big_text)"
   ]
  },
  {
   "cell_type": "markdown",
   "id": "2cee7cf1",
   "metadata": {},
   "source": [
    "### 1.3 расшифруйте их таким частотным методом."
   ]
  },
  {
   "cell_type": "code",
   "execution_count": 10,
   "id": "0b10674e",
   "metadata": {},
   "outputs": [
    {
     "name": "stdout",
     "output_type": "stream",
     "text": [
      " жизнь русского народа великой эпохи как целостный мир прекрасный и возвышенный \n",
      " йеьиж лутткозо инломн вареког щяоше кнк царотсипг дел ялаклнтипг е воьвпэаиипг \n"
     ]
    }
   ],
   "source": [
    "print(mid_text[20:100])\n",
    "print(decode_text(mid_text)[20:100])"
   ]
  },
  {
   "cell_type": "code",
   "execution_count": 11,
   "id": "587d42b6",
   "metadata": {},
   "outputs": [
    {
     "name": "stdout",
     "output_type": "stream",
     "text": [
      "accuracy with text size 300: 0.303\n",
      "accuracy with text size 5000: 0.340\n",
      "accuracy with text size 50000: 0.564\n"
     ]
    }
   ],
   "source": [
    "print(f\"accuracy with text size {SMALL_SIZE}: {accuracy(small_text, decode_text(small_encoded)):.3f}\")\n",
    "print(f\"accuracy with text size {MID_SIZE}: {accuracy(mid_text, decode_text(mid_encoded)):.3f}\")\n",
    "print(f\"accuracy with text size {BIG_SIZE}: {accuracy(big_text, decode_text(big_encoded)):.3f}\")"
   ]
  },
  {
   "cell_type": "markdown",
   "id": "78e82536",
   "metadata": {},
   "source": [
    "# 2. Частотный метод на биграммах"
   ]
  },
  {
   "cell_type": "markdown",
   "id": "4ff44913",
   "metadata": {},
   "source": [
    "Вряд ли в результате получилась такая уж хорошая расшифровка, разве что если вы брали в качестве тестовых данных целые рассказы. \n",
    "\n",
    "Но и Шерлок Холмс был не так уж прост: после буквы E, которая действительно выделяется частотой, дальше он анализировал уже конкретные слова и пытался угадать, какими они могли бы быть. \n",
    "\n",
    "Я не знаю, как запрограммировать такой интуитивный анализ, так что давайте просто сделаем следующий логический шаг:"
   ]
  },
  {
   "cell_type": "markdown",
   "id": "68247b84",
   "metadata": {},
   "source": [
    "### 2.1 подсчитайте частоты биграмм (т.е. пар последовательных букв) по корпусам;"
   ]
  },
  {
   "cell_type": "code",
   "execution_count": 12,
   "id": "a5c82405",
   "metadata": {},
   "outputs": [],
   "source": [
    "def split_n_grams(text, n_gram=2):\n",
    "    n_grams = [text[i - n_gram : i] for i in range(n_gram, len(text))]\n",
    "    return n_grams"
   ]
  },
  {
   "cell_type": "code",
   "execution_count": 13,
   "id": "0603b786",
   "metadata": {},
   "outputs": [],
   "source": [
    "def n_gram_count(text, n_gram=2):\n",
    "    n_grams = split_n_grams(text, n_gram)\n",
    "    counter = Counter(n_grams)\n",
    "    return counter"
   ]
  },
  {
   "cell_type": "code",
   "execution_count": 14,
   "id": "9198e753",
   "metadata": {},
   "outputs": [],
   "source": [
    "N_GRAM = 2\n",
    "\n",
    "train_n_gram_counter = n_gram_count(clean_train_courpuse, n_gram=N_GRAM)"
   ]
  },
  {
   "cell_type": "markdown",
   "id": "2d064919",
   "metadata": {},
   "source": [
    "### 2.2 проведите тестирование аналогично п.1, но при помощи биграмм."
   ]
  },
  {
   "cell_type": "code",
   "execution_count": 15,
   "id": "a5b82bab",
   "metadata": {},
   "outputs": [],
   "source": [
    "def n_gram_decoder(text, n_gram=2):\n",
    "    cur_counter = n_gram_count(text)\n",
    "    \n",
    "    decoder = {\n",
    "        cur_counter.most_common()[i][0]: train_n_gram_counter.most_common()[i][0]\n",
    "        for i in range(len(cur_counter))\n",
    "    }\n",
    "    n_grams_text = split_n_grams(text)\n",
    "    decoded_text = ''.join([decoder.get(letters, letters) for letters in n_grams_text])\n",
    "    return decoded_text"
   ]
  },
  {
   "cell_type": "code",
   "execution_count": 16,
   "id": "16273308",
   "metadata": {},
   "outputs": [
    {
     "name": "stdout",
     "output_type": "stream",
     "text": [
      "accuracy with text size 300: 0.077\n",
      "accuracy with text size 5000: 0.063\n",
      "accuracy with text size 50000: 0.064\n"
     ]
    }
   ],
   "source": [
    "print(f\"accuracy with text size {SMALL_SIZE}: {accuracy(small_text, n_gram_decoder(small_encoded)):.3f}\")\n",
    "print(f\"accuracy with text size {MID_SIZE}: {accuracy(mid_text, n_gram_decoder(mid_encoded)):.3f}\")\n",
    "print(f\"accuracy with text size {BIG_SIZE}: {accuracy(big_text, n_gram_decoder(big_encoded)):.3f}\")"
   ]
  },
  {
   "cell_type": "markdown",
   "id": "2a167702",
   "metadata": {},
   "source": [
    "# 3. Улучшение биграмм с помощью семплирования"
   ]
  },
  {
   "cell_type": "markdown",
   "id": "168fd48e",
   "metadata": {},
   "source": [
    "Но и это ещё не всё:\n",
    "\n",
    "    биграммы скорее всего тоже далеко не всегда работают.\n",
    "\n",
    "Основная часть задания — в том, как можно их улучшить."
   ]
  },
  {
   "cell_type": "markdown",
   "id": "bb215cfc",
   "metadata": {},
   "source": [
    "### 3.1 предложите метод обучения перестановки символов в этом задании, основанный на MCMC-сэмплировании, но по-прежнему работающий на основе статистики биграмм;"
   ]
  },
  {
   "cell_type": "markdown",
   "id": "a3b359a3",
   "metadata": {},
   "source": [
    "### 3.2 реализуйте и протестируйте его, убедитесь, что результаты улучшились."
   ]
  },
  {
   "cell_type": "code",
   "execution_count": 17,
   "id": "fc71983a",
   "metadata": {},
   "outputs": [],
   "source": [
    "def score_decode(text, train_counter, n_gram=2):\n",
    "    EMPTY_COUNT = 1.1\n",
    "    \n",
    "    cur_counter = n_gram_count(text, n_gram)\n",
    "    score = sum([count * np.log1p(train_counter.get(letters, EMPTY_COUNT)) \n",
    "                 for letters, count in cur_counter.items()])\n",
    "    return score / len(text)"
   ]
  },
  {
   "cell_type": "code",
   "execution_count": 18,
   "id": "8303d223",
   "metadata": {},
   "outputs": [],
   "source": [
    "def text_sample(text, n_replace=1):\n",
    "    letters_to_replace = np.random.choice(rus_alphabet, size=2*n_replace, replace=False)\n",
    "    replace_dict = dict(zip(letters_to_replace, letters_to_replace[::-1]))\n",
    "    new_text = ''.join([replace_dict.get(let, let) for let in text])\n",
    "    return new_text"
   ]
  },
  {
   "cell_type": "code",
   "execution_count": 19,
   "id": "31ddd52d",
   "metadata": {},
   "outputs": [],
   "source": [
    "def decode_n_gram_with_sampling(text, train_courpuse=clean_train_courpuse, n_gram=2, n_iter=3_000, verbose=False):\n",
    "    N_ITER_PRINT = 100\n",
    "    text = text + ('|' * int(len(text) % n_gram))\n",
    "    \n",
    "    train_counter = n_gram_count(train_courpuse, n_gram)\n",
    "    best_score = score_decode(text, train_counter, n_gram)\n",
    "    scores = [best_score / 2]\n",
    "    iter_ind = [0]\n",
    "\n",
    "    for i in range(n_iter):\n",
    "        new_text = text_sample(text)\n",
    "        score = score_decode(new_text, train_counter, n_gram)\n",
    "        if score > best_score:\n",
    "            best_score = score\n",
    "            text = new_text\n",
    "            scores.append(best_score)\n",
    "            iter_ind.append(i)\n",
    "        if (i + 1) % N_ITER_PRINT == 0 and verbose:\n",
    "            display.clear_output(wait=True)\n",
    "            plt.plot(iter_ind, scores)\n",
    "            plt.show()\n",
    "    return text"
   ]
  },
  {
   "cell_type": "code",
   "execution_count": 28,
   "id": "2fdeff77",
   "metadata": {},
   "outputs": [
    {
     "name": "stdout",
     "output_type": "stream",
     "text": [
      "accuracy with text size 300:       0.280\n",
      "accuracy with text size 5000:       1.000\n",
      "accuracy with text size 50000:       0.203\n"
     ]
    }
   ],
   "source": [
    "print(f\"accuracy with text size {SMALL_SIZE}: \\\n",
    "      {accuracy(small_text, decode_n_gram_with_sampling(small_encoded, n_iter=10_000)):.3f}\")\n",
    "print(f\"accuracy with text size {MID_SIZE}: \\\n",
    "      {accuracy(mid_text, decode_n_gram_with_sampling(mid_encoded, n_iter=4_000)):.3f}\")\n",
    "print(f\"accuracy with text size {BIG_SIZE}: \\\n",
    "      {accuracy(big_text, decode_n_gram_with_sampling(big_encoded, n_iter=2_000)):.3f}\")"
   ]
  },
  {
   "cell_type": "markdown",
   "id": "f311ba8b",
   "metadata": {},
   "source": [
    "# 4. Расшифруйте сообщение:"
   ]
  },
  {
   "cell_type": "code",
   "execution_count": 29,
   "id": "d118c758",
   "metadata": {},
   "outputs": [],
   "source": [
    "encoded_msg = '←⇠⇒↟↹↷⇊↹↷↟↤↟↨←↹↝⇛⇯↳⇴⇒⇈↝⇊↾↹↟⇒↟↹⇷⇛⇞↨↟↹↝⇛⇯↳⇴⇒⇈↝⇊↾↹↨←⇌⇠↨↹⇙↹⇸↨⇛↙⇛↹⇠⇛⇛↲⇆←↝↟↞↹⇌⇛↨⇛⇯⇊↾↹⇒←↙⇌⇛↹⇷⇯⇛⇞↟↨⇴↨⇈↹⇠⇌⇛⇯←←↹↷⇠←↙⇛↹↷⇊↹↷⇠←↹⇠↤←⇒⇴⇒↟↹⇷⇯⇴↷↟⇒⇈↝⇛↹↟↹⇷⇛⇒⇙⇞↟↨←↹↳⇴⇌⇠↟↳⇴⇒⇈↝⇊↾↹↲⇴⇒⇒↹⇰⇴↹⇷⇛⇠⇒←↤↝←←↹⇞←↨↷←⇯↨⇛←↹⇰⇴↤⇴↝↟←↹⇌⇙⇯⇠⇴↹↘⇛↨↞↹⇌⇛↝←⇞↝⇛↹↞↹↝↟⇞←↙⇛↹↝←↹⇛↲←⇆⇴⇏'"
   ]
  },
  {
   "cell_type": "code",
   "execution_count": 30,
   "id": "ac973c23",
   "metadata": {},
   "outputs": [],
   "source": [
    "def preprocess_message(msg):\n",
    "    \"\"\"change random alphabet to russian\"\"\"\n",
    "    msg_alphabet = list(set(msg))\n",
    "    rnd_alphabet = np.random.choice(rus_alphabet, size=len(msg_alphabet), replace=False)\n",
    "    replace_dict = dict(zip(msg_alphabet, rnd_alphabet))\n",
    "    preprocessed_msg = ''.join([replace_dict[let] for let in msg])\n",
    "    extra_letters = ''.join(set(rus_alphabet) - set(preprocessed_msg))\n",
    "    return preprocessed_msg + extra_letters + '|'"
   ]
  },
  {
   "cell_type": "code",
   "execution_count": 50,
   "id": "418b9fea",
   "metadata": {},
   "outputs": [
    {
     "data": {
      "image/png": "[encoded data removed]",
      "text/plain": [
       "<Figure size 432x288 with 1 Axes>"
      ]
     },
     "metadata": {
      "needs_background": "light"
     },
     "output_type": "display_data"
    },
    {
     "data": {
      "text/plain": [
       "'илут сы стьтеи наворудный тут кажет наворудный еибле я чеаза лаафгинтм баеавый уизба кважтеред лбавии слиза сы сли льиурут кврстудна т кауяжтеи орблторудный фруу пр калуиьнии жиесивеаи прьрнти бявлр шаем банижна м нтжиза ни афигрюцхъщэ|||'"
      ]
     },
     "execution_count": 50,
     "metadata": {},
     "output_type": "execute_result"
    }
   ],
   "source": [
    "rus_encoded_msg = preprocess_message(encoded_msg)\n",
    "decoded_msg = decode_n_gram_with_sampling(rus_encoded_msg, n_gram=3, n_iter=2_500, verbose=True)\n",
    "decoded_msg"
   ]
  },
  {
   "cell_type": "code",
   "execution_count": 55,
   "id": "33750af5",
   "metadata": {},
   "outputs": [
    {
     "data": {
      "image/png": "[encoded data removed]",
      "text/plain": [
       "<Figure size 432x288 with 1 Axes>"
      ]
     },
     "metadata": {
      "needs_background": "light"
     },
     "output_type": "display_data"
    },
    {
     "data": {
      "text/plain": [
       "'если вы вимите норжальный или подти норжальный текст у этого соочшения который легко продитать скорее всего вы все смелали правильно и полудите жаксижальный чалл за послемнее детвертое замание курса хотя конедно я нидего не очешаюбщъцф|||||'"
      ]
     },
     "execution_count": 55,
     "metadata": {},
     "output_type": "execute_result"
    }
   ],
   "source": [
    "decoded_msg = decode_n_gram_with_sampling(decoded_msg, n_gram=2, n_iter=4_500, verbose=True)\n",
    "decoded_msg"
   ]
  },
  {
   "cell_type": "code",
   "execution_count": 56,
   "id": "92a9a230",
   "metadata": {},
   "outputs": [
    {
     "data": {
      "image/png": "[encoded data removed]",
      "text/plain": [
       "<Figure size 432x288 with 1 Axes>"
      ]
     },
     "metadata": {
      "needs_background": "light"
     },
     "output_type": "display_data"
    },
    {
     "data": {
      "text/plain": [
       "'если вы видите норжальный или почти норжальный текст у этого сообщения который легко прочитать скорее всего вы все сделали правильно и получите жаксижальный балл за последнее четвертое задание курса мотя конечно я ничего не обещаюшхъцф|||||'"
      ]
     },
     "execution_count": 56,
     "metadata": {},
     "output_type": "execute_result"
    }
   ],
   "source": [
    "decoded_msg = decode_n_gram_with_sampling(decoded_msg, n_gram=3, n_iter=4_500, verbose=True)\n",
    "decoded_msg"
   ]
  },
  {
   "cell_type": "markdown",
   "id": "ab26e2fe",
   "metadata": {},
   "source": [
    "# 5. Триграммы и т.д."
   ]
  },
  {
   "cell_type": "markdown",
   "id": "d936c7ac",
   "metadata": {},
   "source": [
    "Бонус: а что если от биграмм перейти к триграммам (тройкам букв) или даже больше? Улучшатся ли результаты? Когда улучшатся, а когда нет? Чтобы ответить на этот вопрос эмпирически, уже может понадобиться погенерировать много тестовых перестановок и последить за метриками, глазами может быть и не видно.\n"
   ]
  },
  {
   "cell_type": "code",
   "execution_count": 57,
   "id": "955c3dc4",
   "metadata": {},
   "outputs": [
    {
     "name": "stdout",
     "output_type": "stream",
     "text": [
      "small text 3-grams: mean:0.3204, std:0.3942, max: 1.0\n",
      "small text 4-grams: mean:0.2542, std:0.2964, max: 1.0\n",
      "small text 5-grams: mean:0.0592, std:0.0343, max: 0.11333333333333333\n",
      "small text 6-grams: mean:0.0475, std:0.0361, max: 0.12\n",
      "small text 7-grams: mean:0.0533, std:0.0000, max: 0.05333333333333334\n"
     ]
    }
   ],
   "source": [
    "N_EPOCH = 8\n",
    "\n",
    "for n in range(3, 8):\n",
    "    scores = [accuracy(small_text, decode_n_gram_with_sampling(small_encoded, n_gram=n, n_iter=10_000)) \n",
    "                  for _ in range(N_EPOCH)\n",
    "                 ]\n",
    "    print(f\"small text {n}-grams: mean:{np.mean(scores):.4f}, std:{np.std(scores):.4f}, max: {max(scores)}\")"
   ]
  },
  {
   "cell_type": "code",
   "execution_count": null,
   "id": "54c91b01",
   "metadata": {},
   "outputs": [],
   "source": []
  }
 ],
 "metadata": {
  "kernelspec": {
   "display_name": "Python 3",
   "language": "python",
   "name": "python3"
  },
  "language_info": {
   "codemirror_mode": {
    "name": "ipython",
    "version": 3
   },
   "file_extension": ".py",
   "mimetype": "text/x-python",
   "name": "python",
   "nbconvert_exporter": "python",
   "pygments_lexer": "ipython3",
   "version": "3.9.4"
  }
 },
 "nbformat": 4,
 "nbformat_minor": 5
}
