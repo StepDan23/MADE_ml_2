{
 "cells": [
  {
   "cell_type": "code",
   "execution_count": 1,
   "id": "976b58e9",
   "metadata": {},
   "outputs": [],
   "source": [
    "import random\n",
    "import math\n",
    "from collections import Counter\n",
    "\n",
    "import matplotlib.pyplot as plt\n",
    "from IPython import display\n",
    "\n",
    "train_data_path = 'data/WarAndPeace.txt'\n",
    "test_data_path = 'data/AnnaKarenina.txt'\n",
    "rus_alphabet = [chr(let) for let in range(ord('а'), ord('я') + 1)] + [' ']\n",
    "rus_alphabet_set = set(rus_alphabet)"
   ]
  },
  {
   "cell_type": "code",
   "execution_count": 2,
   "id": "a0b66a20",
   "metadata": {},
   "outputs": [],
   "source": [
    "with open(train_data_path, 'r') as fd:\n",
    "    train_courpuse = fd.read()\n",
    "with open(test_data_path, 'r') as fd:\n",
    "    test_courpuse = fd.read()"
   ]
  },
  {
   "cell_type": "markdown",
   "id": "17029bfb",
   "metadata": {},
   "source": [
    "# 1. Базовый частотный метод"
   ]
  },
  {
   "cell_type": "markdown",
   "id": "6bb53360",
   "metadata": {},
   "source": [
    "### 1.1 подсчитайте частоты букв по корпусам (пунктуацию и капитализацию можно просто опустить, а вот пробелы лучше оставить);"
   ]
  },
  {
   "cell_type": "code",
   "execution_count": 3,
   "id": "de8b8ffc",
   "metadata": {},
   "outputs": [],
   "source": [
    "def text_preprocess(text):\n",
    "    clean_text = ''.join([let for let in text.lower() if let in rus_alphabet_set])\n",
    "    clean_text = ' '.join([word for word in clean_text.split()])  # repllace multi whitespaces\n",
    "    return clean_text"
   ]
  },
  {
   "cell_type": "code",
   "execution_count": 4,
   "id": "40c5616f",
   "metadata": {},
   "outputs": [],
   "source": [
    "clean_train_courpuse = text_preprocess(train_courpuse)\n",
    "clean_test_courpuse = text_preprocess(test_courpuse)"
   ]
  },
  {
   "cell_type": "code",
   "execution_count": 5,
   "id": "17a44e80",
   "metadata": {},
   "outputs": [],
   "source": [
    "let_counter = Counter(clean_train_courpuse)"
   ]
  },
  {
   "cell_type": "markdown",
   "id": "14aea818",
   "metadata": {},
   "source": [
    "### 1.2 возьмите какие-нибудь тестовые тексты (нужно взять по меньшей мере 2-3 предложения, иначе вряд ли сработает), зашифруйте их посредством случайной перестановки символов;"
   ]
  },
  {
   "cell_type": "code",
   "execution_count": 6,
   "id": "6b46bf80",
   "metadata": {},
   "outputs": [],
   "source": [
    "def encode_text(text):\n",
    "    letters_size = len(rus_alphabet)\n",
    "    alphabet_shuffled = random.sample(rus_alphabet, k=letters_size)\n",
    "    \n",
    "    encoder = dict(zip(rus_alphabet, alphabet_shuffled))\n",
    "    encoded_text = ''.join([encoder[let] for let in text])\n",
    "    return encoded_text"
   ]
  },
  {
   "cell_type": "code",
   "execution_count": 7,
   "id": "be23a915",
   "metadata": {},
   "outputs": [],
   "source": [
    "def decode_text(text):\n",
    "    cur_counter = Counter(text)\n",
    "    decoder = {\n",
    "        cur_counter.most_common()[i][0]: let_counter.most_common()[i][0]\n",
    "        for i in range(len(cur_counter))\n",
    "    }\n",
    "    decoded_text = ''.join([decoder[let] for let in text])\n",
    "    return decoded_text"
   ]
  },
  {
   "cell_type": "code",
   "execution_count": 8,
   "id": "557717da",
   "metadata": {},
   "outputs": [],
   "source": [
    "def accuracy(true_text, pred_text):\n",
    "    size = min(len(true_text), len(pred_text))\n",
    "    total_true = 0\n",
    "    \n",
    "    for i in range(size):\n",
    "        total_true += int(true_text[i] == pred_text[i])\n",
    "    accuracy = total_true / size\n",
    "    return accuracy"
   ]
  },
  {
   "cell_type": "code",
   "execution_count": 9,
   "id": "f05c90b7",
   "metadata": {},
   "outputs": [],
   "source": [
    "TEST_START_IND = 2_500\n",
    "SMALL_SIZE = 100\n",
    "MID_SIZE = 5_000\n",
    "BIG_SIZE = 50_000\n",
    "\n",
    "small_text = clean_test_courpuse[TEST_START_IND : TEST_START_IND + SMALL_SIZE]\n",
    "small_encoded = encode_text(small_text)\n",
    "mid_text = clean_test_courpuse[TEST_START_IND : TEST_START_IND + MID_SIZE]\n",
    "mid_encoded = encode_text(mid_text)\n",
    "big_text = clean_test_courpuse[TEST_START_IND : TEST_START_IND + BIG_SIZE]\n",
    "big_encoded = encode_text(big_text)"
   ]
  },
  {
   "cell_type": "markdown",
   "id": "ab11d991",
   "metadata": {},
   "source": [
    "### 1.3 расшифруйте их таким частотным методом."
   ]
  },
  {
   "cell_type": "code",
   "execution_count": 10,
   "id": "6957909f",
   "metadata": {},
   "outputs": [
    {
     "name": "stdout",
     "output_type": "stream",
     "text": [
      " жизнь русского народа великой эпохи как целостный мир прекрасный и возвышенный \n",
      " йеьиж лутткозо инломн вареког щяоше кнк царотсипг дел ялаклнтипг е воьвпэаиипг \n"
     ]
    }
   ],
   "source": [
    "print(mid_text[20:100])\n",
    "print(decode_text(mid_text)[20:100])"
   ]
  },
  {
   "cell_type": "code",
   "execution_count": 11,
   "id": "bb3e81a5",
   "metadata": {},
   "outputs": [
    {
     "name": "stdout",
     "output_type": "stream",
     "text": [
      "accuracy with text size 100: 0.170\n",
      "accuracy with text size 5000: 0.340\n",
      "accuracy with text size 50000: 0.564\n"
     ]
    }
   ],
   "source": [
    "print(f\"accuracy with text size {SMALL_SIZE}: {accuracy(small_text, decode_text(small_encoded)):.3f}\")\n",
    "print(f\"accuracy with text size {MID_SIZE}: {accuracy(mid_text, decode_text(mid_encoded)):.3f}\")\n",
    "print(f\"accuracy with text size {BIG_SIZE}: {accuracy(big_text, decode_text(big_encoded)):.3f}\")"
   ]
  },
  {
   "cell_type": "markdown",
   "id": "89da1454",
   "metadata": {},
   "source": [
    "# 2. Частотный метод на биграммах"
   ]
  },
  {
   "cell_type": "markdown",
   "id": "f3456b5f",
   "metadata": {},
   "source": [
    "Вряд ли в результате получилась такая уж хорошая расшифровка, разве что если вы брали в качестве тестовых данных целые рассказы. \n",
    "\n",
    "Но и Шерлок Холмс был не так уж прост: после буквы E, которая действительно выделяется частотой, дальше он анализировал уже конкретные слова и пытался угадать, какими они могли бы быть. \n",
    "\n",
    "Я не знаю, как запрограммировать такой интуитивный анализ, так что давайте просто сделаем следующий логический шаг:"
   ]
  },
  {
   "cell_type": "markdown",
   "id": "920754ba",
   "metadata": {},
   "source": [
    "### 2.1 подсчитайте частоты биграмм (т.е. пар последовательных букв) по корпусам;"
   ]
  },
  {
   "cell_type": "code",
   "execution_count": 12,
   "id": "ee1e56b8",
   "metadata": {},
   "outputs": [],
   "source": [
    "def split_n_grams(text, n_gram=2):\n",
    "    n_grams = [text[i - n_gram : i] for i in range(n_gram, len(text) - len(text) % n_gram)]\n",
    "    return n_grams"
   ]
  },
  {
   "cell_type": "code",
   "execution_count": 13,
   "id": "c27d43b2",
   "metadata": {},
   "outputs": [],
   "source": [
    "def n_gram_count(text, n_gram=2):\n",
    "    n_grams = split_n_grams(text, n_gram)\n",
    "    counter = Counter(n_grams)\n",
    "    return counter"
   ]
  },
  {
   "cell_type": "code",
   "execution_count": 14,
   "id": "8b06775a",
   "metadata": {},
   "outputs": [],
   "source": [
    "N_GRAM = 2\n",
    "\n",
    "train_n_gram_counter = n_gram_count(clean_train_courpuse, n_gram=N_GRAM)"
   ]
  },
  {
   "cell_type": "markdown",
   "id": "5f8d2b54",
   "metadata": {},
   "source": [
    "### 2.2 проведите тестирование аналогично п.1, но при помощи биграмм."
   ]
  },
  {
   "cell_type": "code",
   "execution_count": 15,
   "id": "8ac0b03f",
   "metadata": {},
   "outputs": [],
   "source": [
    "def n_gram_decoder(text, n_gram=2):\n",
    "    cur_counter = n_gram_count(text)\n",
    "    \n",
    "    decoder = {\n",
    "        cur_counter.most_common()[i][0]: train_n_gram_counter.most_common()[i][0]\n",
    "        for i in range(len(cur_counter))\n",
    "    }\n",
    "    n_grams_text = split_n_grams(text)\n",
    "    decoded_text = ''.join([decoder.get(letters, letters) for letters in n_grams_text])\n",
    "    return decoded_text"
   ]
  },
  {
   "cell_type": "code",
   "execution_count": 16,
   "id": "41c1ee4c",
   "metadata": {},
   "outputs": [
    {
     "name": "stdout",
     "output_type": "stream",
     "text": [
      "accuracy with text size 100: 0.080\n",
      "accuracy with text size 5000: 0.063\n",
      "accuracy with text size 50000: 0.064\n"
     ]
    }
   ],
   "source": [
    "print(f\"accuracy with text size {SMALL_SIZE}: {accuracy(small_text, n_gram_decoder(small_encoded)):.3f}\")\n",
    "print(f\"accuracy with text size {MID_SIZE}: {accuracy(mid_text, n_gram_decoder(mid_encoded)):.3f}\")\n",
    "print(f\"accuracy with text size {BIG_SIZE}: {accuracy(big_text, n_gram_decoder(big_encoded)):.3f}\")"
   ]
  },
  {
   "cell_type": "markdown",
   "id": "66180c61",
   "metadata": {},
   "source": [
    "# 3. Улучшение биграмм с помощью семплирования"
   ]
  },
  {
   "cell_type": "markdown",
   "id": "f1995327",
   "metadata": {},
   "source": [
    "Но и это ещё не всё:\n",
    "\n",
    "    биграммы скорее всего тоже далеко не всегда работают.\n",
    "\n",
    "Основная часть задания — в том, как можно их улучшить."
   ]
  },
  {
   "cell_type": "markdown",
   "id": "14acaced",
   "metadata": {},
   "source": [
    "### 3.1 предложите метод обучения перестановки символов в этом задании, основанный на MCMC-сэмплировании, но по-прежнему работающий на основе статистики биграмм;"
   ]
  },
  {
   "cell_type": "markdown",
   "id": "eaa56f1e",
   "metadata": {},
   "source": [
    "### 3.2 реализуйте и протестируйте его, убедитесь, что результаты улучшились."
   ]
  },
  {
   "cell_type": "code",
   "execution_count": 17,
   "id": "76fefe11",
   "metadata": {},
   "outputs": [],
   "source": [
    "def score_decode(text, train_counter, n_gram=2):\n",
    "    EMPTY_COUNT = 0\n",
    "    \n",
    "    cur_counter = n_gram_count(text, n_gram)\n",
    "    score = sum([count * math.log1p(train_counter.get(letters, EMPTY_COUNT)) \n",
    "                 for letters, count in cur_counter.items()])\n",
    "    return score / len(text)"
   ]
  },
  {
   "cell_type": "code",
   "execution_count": 18,
   "id": "93808eaf",
   "metadata": {},
   "outputs": [],
   "source": [
    "def text_sample(text, n_replace=1):\n",
    "    letters_to_replace = random.sample(rus_alphabet, k=2*n_replace)\n",
    "    replace_dict = dict(zip(letters_to_replace, letters_to_replace[::-1]))\n",
    "    new_text = ''.join([replace_dict.get(let, let) for let in text])\n",
    "    return new_text"
   ]
  },
  {
   "cell_type": "code",
   "execution_count": 19,
   "id": "0261a955",
   "metadata": {},
   "outputs": [],
   "source": [
    "def decode_n_gram_with_sampling(text, train_courpuse=clean_train_courpuse, n_gram=2, n_iter=3_000, verbose=False):\n",
    "    N_ITER_PRINT = 100\n",
    "    train_counter = n_gram_count(train_courpuse, n_gram)\n",
    "    best_score = score_decode(text, train_counter, n_gram)\n",
    "    scores = [best_score]\n",
    "    iter_ind = [0]\n",
    "    \n",
    "    for i in range(n_iter):\n",
    "        new_text = text_sample(text)\n",
    "        score = score_decode(new_text, train_counter, n_gram)\n",
    "        if score > best_score:\n",
    "            best_score = score\n",
    "            text = new_text\n",
    "            scores.append(best_score)\n",
    "            iter_ind.append(i)\n",
    "        if (i + 1) % N_ITER_PRINT == 0 and verbose:\n",
    "            display.clear_output(wait=True)\n",
    "            plt.plot(iter_ind, scores)\n",
    "            plt.show()\n",
    "    return text"
   ]
  },
  {
   "cell_type": "code",
   "execution_count": 23,
   "id": "8768777d",
   "metadata": {},
   "outputs": [
    {
     "name": "stdout",
     "output_type": "stream",
     "text": [
      "accuracy with text size 100:       0.420\n"
     ]
    }
   ],
   "source": [
    "print(f\"accuracy with text size {SMALL_SIZE}: \\\n",
    "      {accuracy(small_text, decode_n_gram_with_sampling(small_encoded, n_iter=15_000)):.3f}\")"
   ]
  },
  {
   "cell_type": "code",
   "execution_count": 24,
   "id": "fc3cbd2f",
   "metadata": {},
   "outputs": [
    {
     "name": "stdout",
     "output_type": "stream",
     "text": [
      "accuracy with text size 5000:       1.000\n"
     ]
    }
   ],
   "source": [
    "print(f\"accuracy with text size {MID_SIZE}: \\\n",
    "      {accuracy(mid_text, decode_n_gram_with_sampling(mid_encoded, n_iter=4_000)):.3f}\")"
   ]
  },
  {
   "cell_type": "code",
   "execution_count": 25,
   "id": "ab8e6f91",
   "metadata": {},
   "outputs": [
    {
     "name": "stdout",
     "output_type": "stream",
     "text": [
      "accuracy with text size 50000:       0.909\n"
     ]
    }
   ],
   "source": [
    "print(f\"accuracy with text size {BIG_SIZE}: \\\n",
    "      {accuracy(big_text, decode_n_gram_with_sampling(big_encoded, n_iter=2_000)):.3f}\")"
   ]
  },
  {
   "cell_type": "markdown",
   "id": "0d5ed0b2",
   "metadata": {},
   "source": [
    "# 4. Расшифруйте сообщение:"
   ]
  },
  {
   "cell_type": "code",
   "execution_count": 26,
   "id": "1bc9395b",
   "metadata": {},
   "outputs": [],
   "source": [
    "encoded_msg = \"დჳჵჂႨშႼႨშჂხჂჲდႨსႹႭჾႣჵისႼჰႨჂჵჂႨႲႹႧჲჂႨსႹႭჾႣჵისႼჰႨჲდႩჳჲႨჇႨႠჲႹქႹႨჳႹႹჱჶდსჂႽႨႩႹჲႹႭႼჰႨჵდქႩႹႨႲႭႹႧჂჲႣჲიႨჳႩႹႭდდႨშჳდქႹႨშႼႨშჳდႨჳხდჵႣჵჂႨႲႭႣშჂჵისႹႨჂႨႲႹჵჇႧჂჲდႨჾႣႩჳჂჾႣჵისႼჰႨჱႣჵჵႨეႣႨႲႹჳჵდხსდდႨႧდჲშდႭჲႹდႨეႣხႣსჂდႨႩჇႭჳႣႨႾႹჲႽႨႩႹსდႧსႹႨႽႨსჂႧდქႹႨსდႨႹჱდჶႣნ\""
   ]
  },
  {
   "cell_type": "code",
   "execution_count": 41,
   "id": "ebbd7841",
   "metadata": {},
   "outputs": [],
   "source": [
    "def preprocess_message(msg):\n",
    "    \"\"\"change random alphabet to russian\"\"\"\n",
    "    msg_alphabet = list(set(msg))\n",
    "    rnd_alphabet = random.sample(rus_alphabet, len(msg_alphabet))\n",
    "    replace_dict = dict(zip(msg_alphabet, rnd_alphabet))\n",
    "    preprocessed_msg = ''.join([replace_dict[let] for let in msg])\n",
    "    return preprocessed_msg"
   ]
  },
  {
   "cell_type": "code",
   "execution_count": 42,
   "id": "b82d0251",
   "metadata": {},
   "outputs": [],
   "source": [
    "rus_encoded_msg = preprocess_message(encoded_msg)"
   ]
  },
  {
   "cell_type": "code",
   "execution_count": 43,
   "id": "fcc931cf",
   "metadata": {},
   "outputs": [
    {
     "data": {
      "image/png": "[encoded data removed]",
      "text/plain": [
       "<Figure size 432x288 with 1 Axes>"
      ]
     },
     "metadata": {
      "needs_background": "light"
     },
     "output_type": "display_data"
    }
   ],
   "source": [
    "decoded_msg = decode_n_gram_with_sampling(rus_encoded_msg, n_iter=10_000, verbose=True)"
   ]
  },
  {
   "cell_type": "code",
   "execution_count": null,
   "id": "31eebf44",
   "metadata": {},
   "outputs": [],
   "source": []
  },
  {
   "cell_type": "code",
   "execution_count": 44,
   "id": "f59d78dd",
   "metadata": {},
   "outputs": [
    {
     "data": {
      "text/plain": [
       "'етна чс чазале ворминывсь ана подла ворминывсь лектл у элого тообщевая колорсь негко продалилы ткорее чтего чс чте тзенина причаныво а понудале миктаминывсь бинн ши потнезвее делчерлое шизивае курти холя коведво я вадего ве обещию'"
      ]
     },
     "execution_count": 44,
     "metadata": {},
     "output_type": "execute_result"
    }
   ],
   "source": [
    "decoded_msg"
   ]
  },
  {
   "cell_type": "code",
   "execution_count": null,
   "id": "fa26ec41",
   "metadata": {},
   "outputs": [],
   "source": []
  },
  {
   "cell_type": "code",
   "execution_count": null,
   "id": "922e0cb6",
   "metadata": {},
   "outputs": [],
   "source": []
  }
 ],
 "metadata": {
  "kernelspec": {
   "display_name": "Python 3",
   "language": "python",
   "name": "python3"
  },
  "language_info": {
   "codemirror_mode": {
    "name": "ipython",
    "version": 3
   },
   "file_extension": ".py",
   "mimetype": "text/x-python",
   "name": "python",
   "nbconvert_exporter": "python",
   "pygments_lexer": "ipython3",
   "version": "3.9.4"
  }
 },
 "nbformat": 4,
 "nbformat_minor": 5
}
